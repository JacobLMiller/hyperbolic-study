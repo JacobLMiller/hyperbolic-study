{
 "cells": [
  {
   "cell_type": "code",
   "execution_count": 58,
   "metadata": {},
   "outputs": [],
   "source": [
    "import json \n"
   ]
  },
  {
   "cell_type": "code",
   "execution_count": 59,
   "metadata": {},
   "outputs": [],
   "source": [
    "with open(\"refs.json\", \"r\") as fdata:\n",
    "    refs = json.load(fdata)"
   ]
  },
  {
   "cell_type": "code",
   "execution_count": 60,
   "metadata": {},
   "outputs": [],
   "source": [
    "geo_cat = {\n",
    "    \"spherical\": 0, \n",
    "    \"hyperbolic\": 0,\n",
    "    \"torus\": 0,\n",
    "    \"other\": 0\n",
    "}"
   ]
  },
  {
   "cell_type": "code",
   "execution_count": 61,
   "metadata": {},
   "outputs": [],
   "source": [
    "for paper in refs:\n",
    "    if \"spherical\" in paper[\"sections\"]: geo_cat[\"spherical\"] += 1\n",
    "    if \"hyperbolic\" in paper[\"sections\"]: geo_cat[\"hyperbolic\"] += 1\n",
    "    if \"torus\" in paper[\"sections\"]: geo_cat[\"torus\"] += 1 \n",
    "    if \"lens\" in paper[\"sections\"]: geo_cat[\"other\"] += 1"
   ]
  },
  {
   "cell_type": "code",
   "execution_count": 62,
   "metadata": {},
   "outputs": [
    {
     "data": {
      "text/plain": [
       "{'spherical': 17, 'hyperbolic': 26, 'torus': 4, 'other': 3}"
      ]
     },
     "execution_count": 62,
     "metadata": {},
     "output_type": "execute_result"
    }
   ],
   "source": [
    "geo_cat"
   ]
  },
  {
   "cell_type": "code",
   "execution_count": 63,
   "metadata": {},
   "outputs": [
    {
     "name": "stdout",
     "output_type": "stream",
     "text": [
      "    spherical & 17 \\\\ \\hline\n",
      "    hyperbolic & 26 \\\\ \\hline\n",
      "    torus & 4 \\\\ \\hline\n",
      "    other & 3 \\\\ \\hline\n"
     ]
    }
   ],
   "source": [
    "for geo, num in geo_cat.items():\n",
    "    print(f\"    {geo} & {num} \\\\\\\\ \\\\hline\")"
   ]
  },
  {
   "cell_type": "code",
   "execution_count": 64,
   "metadata": {},
   "outputs": [],
   "source": [
    "type_cat = {\n",
    "    \"technique\": 0, \n",
    "    \"user study\": 0,\n",
    "    \"theory\": 0,\n",
    "    \"application\": 0\n",
    "}"
   ]
  },
  {
   "cell_type": "code",
   "execution_count": 65,
   "metadata": {},
   "outputs": [],
   "source": [
    "for paper in refs:\n",
    "    if \"technique\" in paper[\"sections\"]: type_cat[\"technique\"] += 1\n",
    "    if \"user study\" in paper[\"sections\"]: type_cat[\"user study\"] += 1\n",
    "    if \"theory\" in paper[\"sections\"]: type_cat[\"theory\"] += 1 \n",
    "    if \"application\" in paper[\"sections\"]: type_cat[\"application\"] += 1"
   ]
  },
  {
   "cell_type": "code",
   "execution_count": 66,
   "metadata": {},
   "outputs": [
    {
     "data": {
      "text/plain": [
       "{'technique': 9, 'user study': 2, 'theory': 12, 'application': 23}"
      ]
     },
     "execution_count": 66,
     "metadata": {},
     "output_type": "execute_result"
    }
   ],
   "source": [
    "type_cat"
   ]
  },
  {
   "cell_type": "code",
   "execution_count": 67,
   "metadata": {},
   "outputs": [
    {
     "name": "stdout",
     "output_type": "stream",
     "text": [
      "    technique & 9 \\\\ \\hline\n",
      "    user study & 2 \\\\ \\hline\n",
      "    theory & 12 \\\\ \\hline\n",
      "    application & 23 \\\\ \\hline\n"
     ]
    }
   ],
   "source": [
    "for typ, num in type_cat.items():\n",
    "    print(f\"    {typ} & {num} \\\\\\\\ \\\\hline\")"
   ]
  },
  {
   "cell_type": "code",
   "execution_count": 68,
   "metadata": {},
   "outputs": [],
   "source": [
    "def cite_all_section(section):\n",
    "    for paper in refs:\n",
    "        if section in paper[\"sections\"]:\n",
    "            print(f\"~\\\\cite{{{paper['id']}}}\")"
   ]
  },
  {
   "cell_type": "code",
   "execution_count": 70,
   "metadata": {},
   "outputs": [
    {
     "data": {
      "text/plain": [
       "{'spherical': {'technique': 0, 'user study': 0, 'theory': 0, 'application': 0},\n",
       " 'hyperbolic': {'technique': 0,\n",
       "  'user study': 0,\n",
       "  'theory': 0,\n",
       "  'application': 0},\n",
       " 'torus': {'technique': 0, 'user study': 0, 'theory': 0, 'application': 0},\n",
       " 'other': {'technique': 0, 'user study': 0, 'theory': 0, 'application': 0}}"
      ]
     },
     "execution_count": 70,
     "metadata": {},
     "output_type": "execute_result"
    }
   ],
   "source": [
    "grid = {\n",
    "    geo: {typ: 0 for typ in type_cat.keys()}\n",
    "    for geo in geo_cat.keys()\n",
    "}\n",
    "grid"
   ]
  },
  {
   "cell_type": "code",
   "execution_count": 71,
   "metadata": {},
   "outputs": [],
   "source": [
    "for geo in grid.keys():\n",
    "    for typ in grid[geo].keys():\n",
    "        for paper in refs:\n",
    "            if geo in paper[\"sections\"] and typ in paper[\"sections\"]:\n",
    "                grid[geo][typ] += 1"
   ]
  },
  {
   "cell_type": "code",
   "execution_count": 77,
   "metadata": {},
   "outputs": [
    {
     "name": "stdout",
     "output_type": "stream",
     "text": [
      "spherical 3 & 1 & 3 & 8 \\\\ \\hline\n",
      "hyperbolic 4 & 2 & 5 & 15 \\\\ \\hline\n",
      "torus 2 & 0 & 3 & 0 \\\\ \\hline\n",
      "other 0 & 0 & 0 & 0 \\\\ \\hline\n"
     ]
    }
   ],
   "source": [
    "for geo in grid.keys():\n",
    "    print(f\"{geo} & \", end=\"\")\n",
    "    print(\" & \".join(str(n) for n in grid[geo].values()), end=\"\")\n",
    "    print(\" \\\\\\\\ \\\\hline\")"
   ]
  }
 ],
 "metadata": {
  "kernelspec": {
   "display_name": "gt",
   "language": "python",
   "name": "python3"
  },
  "language_info": {
   "codemirror_mode": {
    "name": "ipython",
    "version": 3
   },
   "file_extension": ".py",
   "mimetype": "text/x-python",
   "name": "python",
   "nbconvert_exporter": "python",
   "pygments_lexer": "ipython3",
   "version": "3.10.4"
  }
 },
 "nbformat": 4,
 "nbformat_minor": 2
}
