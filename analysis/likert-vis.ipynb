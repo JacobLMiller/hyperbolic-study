{
 "cells": [
  {
   "cell_type": "code",
   "execution_count": 1,
   "metadata": {},
   "outputs": [
    {
     "name": "stdout",
     "output_type": "stream",
     "text": [
      "{'values': {'0': 5, '1': 2, '2': 4, '3': 4, '4': 4, '5': 3, '6': 4, '7': 4, '8': 2, '9': 4, '10': 4, '11': 4, '12': 4, '13': 3, '14': 3, '15': 4, '16': 2, '17': 2, '18': 4, '19': 3, '20': 4, '21': 4, '22': 3, '23': 5, '24': 5, '25': 1, '26': 4, '27': 4, '28': 3, '29': 4, '30': 2, '31': 1, '32': 4, '33': 4, '34': 5, '35': 4, '36': 5, '37': 4, '38': 4, '39': 4, '40': 3, '41': 2, '42': 4, '43': 4, '44': 4, '45': 3, '46': 4, '47': 4, '48': 4, '49': 3, '50': 4, '51': 4, '52': 5, '53': 5, '54': 4, '55': 3, '56': 4, '57': 5, '58': 2, '59': 4, '60': 5, '61': 1, '62': 2, '63': 4, '64': 4, '65': 4, '66': 4, '67': 4, '68': 3, '69': 4, '70': 2, '71': 1, '72': 5, '73': 2, '74': 5, '75': 5, '76': 4, '77': 4, '78': 3, '79': 4, '80': 3, '81': 4, '82': 4, '83': 4, '84': 2, '85': 2, '86': 2}, 'groups': {'0': 'E', '1': 'H', '2': 'S', '3': 'E', '4': 'H', '5': 'S', '6': 'E', '7': 'H', '8': 'S', '9': 'E', '10': 'H', '11': 'S', '12': 'E', '13': 'H', '14': 'S', '15': 'E', '16': 'H', '17': 'S', '18': 'E', '19': 'H', '20': 'S', '21': 'E', '22': 'H', '23': 'S', '24': 'E', '25': 'H', '26': 'S', '27': 'E', '28': 'H', '29': 'S', '30': 'E', '31': 'H', '32': 'S', '33': 'E', '34': 'H', '35': 'S', '36': 'E', '37': 'H', '38': 'S', '39': 'E', '40': 'H', '41': 'S', '42': 'E', '43': 'H', '44': 'S', '45': 'E', '46': 'H', '47': 'S', '48': 'E', '49': 'H', '50': 'S', '51': 'E', '52': 'H', '53': 'S', '54': 'E', '55': 'H', '56': 'S', '57': 'E', '58': 'H', '59': 'S', '60': 'E', '61': 'H', '62': 'S', '63': 'E', '64': 'H', '65': 'S', '66': 'E', '67': 'H', '68': 'S', '69': 'E', '70': 'H', '71': 'S', '72': 'E', '73': 'H', '74': 'S', '75': 'E', '76': 'H', '77': 'S', '78': 'E', '79': 'H', '80': 'S', '81': 'E', '82': 'H', '83': 'S', '84': 'E', '85': 'H', '86': 'S'}}\n"
     ]
    }
   ],
   "source": [
    "import pandas as pd\n",
    "import numpy as np\n",
    "import json\n",
    "\n",
    "# results = pd.read_csv('likert-data/likert-q0-factor.csv')\n",
    "# results.head()\n",
    "# print(results)\n",
    "results = dict()\n",
    "for i in range(10):\n",
    "    key = 'q' + str(i)\n",
    "    results[key] = pd.read_csv('hypotheses/likert-' + key + '-factor.csv')\n",
    "    results[key] = results[key].drop(labels=\"participants\", axis=1)\n",
    "    results[key] = json.loads(results[key].to_json())\n",
    "print(results['q0'])\n",
    "interaction_q = ['q7', 'q5', 'q4', 'q3', 'q6']\n",
    "other_q = ['q8', 'q1', 'q9', 'q0', 'q2']\n",
    "questions = {\n",
    "    \"q0\": \"This style of \\nvisualization was easy to \\nread and understand.\", \n",
    "    \"q1\": \"The visualization \\nstyle supported answering \\nthe questions asked.\", \n",
    "    \"q2\": \"The provided \\ninteractions overall \\nsupported answering \\nthe questions asked.\",  \n",
    "    \"q3\": \"click-and\\n-drag\", \n",
    "    \"q4\": \"scroll \", \n",
    "    \"q5\": \"double \\nclick\", \n",
    "    \"q6\": \"hover\", \n",
    "    \"q7\": \"reset\",\n",
    "    \"q8\": \"It was enjoyable \\nutilizing the interactions.\", \n",
    "    \"q9\": \"The visualizations were \\naesthetically pleasing.\"\n",
    "}"
   ]
  },
  {
   "cell_type": "code",
   "execution_count": 2,
   "metadata": {},
   "outputs": [],
   "source": [
    "import json \n",
    "with open(\"results.json\",'w') as fdata:\n",
    "    json.dump(results,fdata,indent=4)"
   ]
  },
  {
   "cell_type": "code",
   "execution_count": 3,
   "metadata": {},
   "outputs": [
    {
     "ename": "AttributeError",
     "evalue": "'dict' object has no attribute 'unique'",
     "output_type": "error",
     "traceback": [
      "\u001b[0;31m---------------------------------------------------------------------------\u001b[0m",
      "\u001b[0;31mAttributeError\u001b[0m                            Traceback (most recent call last)",
      "Cell \u001b[0;32mIn[3], line 6\u001b[0m\n\u001b[1;32m      4\u001b[0m \u001b[38;5;28;01mfor\u001b[39;00m key, df \u001b[38;5;129;01min\u001b[39;00m results\u001b[38;5;241m.\u001b[39mitems():\n\u001b[1;32m      5\u001b[0m     fig, ax \u001b[38;5;241m=\u001b[39m plt\u001b[38;5;241m.\u001b[39msubplots(sharey\u001b[38;5;241m=\u001b[39m\u001b[38;5;28;01mTrue\u001b[39;00m)\n\u001b[0;32m----> 6\u001b[0m     \u001b[38;5;28;01mfor\u001b[39;00m group \u001b[38;5;129;01min\u001b[39;00m \u001b[43mdf\u001b[49m\u001b[43m[\u001b[49m\u001b[38;5;124;43m'\u001b[39;49m\u001b[38;5;124;43mgroups\u001b[39;49m\u001b[38;5;124;43m'\u001b[39;49m\u001b[43m]\u001b[49m\u001b[38;5;241;43m.\u001b[39;49m\u001b[43munique\u001b[49m():\n\u001b[1;32m      7\u001b[0m         \u001b[38;5;28;01mif\u001b[39;00m (group \u001b[38;5;241m==\u001b[39m \u001b[38;5;124m'\u001b[39m\u001b[38;5;124mE\u001b[39m\u001b[38;5;124m'\u001b[39m):\n\u001b[1;32m      8\u001b[0m             offset \u001b[38;5;241m=\u001b[39m \u001b[38;5;241m0.05\u001b[39m\n",
      "\u001b[0;31mAttributeError\u001b[0m: 'dict' object has no attribute 'unique'"
     ]
    },
    {
     "data": {
      "image/png": "[encoded data removed]",
      "text/plain": [
       "<Figure size 640x480 with 1 Axes>"
      ]
     },
     "metadata": {},
     "output_type": "display_data"
    }
   ],
   "source": [
    "import matplotlib.pyplot as plt\n",
    "import matplotlib.ticker as ticker\n",
    "\n",
    "for key, df in results.items():\n",
    "    fig, ax = plt.subplots(sharey=True)\n",
    "    for group in df['groups'].unique():\n",
    "        if (group == 'E'):\n",
    "            offset = 0.05\n",
    "        elif (group == 'H'):\n",
    "            offset = -0.05\n",
    "        else:\n",
    "            offset = 0  \n",
    "        df_group = df[df['groups'] == group]\n",
    "        ax.plot(df_group['participants'], df_group['values'] + offset, label='Group ' + group, alpha=0.6, marker='o')\n",
    "        fig.set_figwidth(15)\n",
    "    plt.setp(ax, ylim=(0, 6), yticklabels=[\"\", \"Strongly Disagree\", \"Disagree\", \"Neutral\", \"Agree\", \"Strongly Agree\", \"\"], xticks=[], xticklabels=[])\n",
    "    plt.xlabel('Participants')\n",
    "    ax.yaxis.set_major_locator(ticker.MaxNLocator(integer=True))\n",
    "    ax.set_title(questions[key])\n",
    "    ax.legend()\n",
    "    fig.savefig('figs/full_figure' + key[1] + '.png')\n",
    "    plt.show()"
   ]
  },
  {
   "cell_type": "code",
   "execution_count": 5,
   "metadata": {},
   "outputs": [
    {
     "ename": "AttributeError",
     "evalue": "'dict' object has no attribute 'unique'",
     "output_type": "error",
     "traceback": [
      "\u001b[0;31m---------------------------------------------------------------------------\u001b[0m",
      "\u001b[0;31mAttributeError\u001b[0m                            Traceback (most recent call last)",
      "Cell \u001b[0;32mIn[5], line 2\u001b[0m\n\u001b[1;32m      1\u001b[0m fig, ax \u001b[38;5;241m=\u001b[39m plt\u001b[38;5;241m.\u001b[39msubplots()\n\u001b[0;32m----> 2\u001b[0m \u001b[38;5;28;01mfor\u001b[39;00m group \u001b[38;5;129;01min\u001b[39;00m \u001b[43mresults\u001b[49m\u001b[43m[\u001b[49m\u001b[38;5;28;43mlist\u001b[39;49m\u001b[43m(\u001b[49m\u001b[43mresults\u001b[49m\u001b[38;5;241;43m.\u001b[39;49m\u001b[43mkeys\u001b[49m\u001b[43m(\u001b[49m\u001b[43m)\u001b[49m\u001b[43m)\u001b[49m\u001b[43m[\u001b[49m\u001b[38;5;241;43m0\u001b[39;49m\u001b[43m]\u001b[49m\u001b[43m]\u001b[49m\u001b[43m[\u001b[49m\u001b[38;5;124;43m'\u001b[39;49m\u001b[38;5;124;43mgroups\u001b[39;49m\u001b[38;5;124;43m'\u001b[39;49m\u001b[43m]\u001b[49m\u001b[38;5;241;43m.\u001b[39;49m\u001b[43munique\u001b[49m():\n\u001b[1;32m      3\u001b[0m     \u001b[38;5;66;03m# Initialize a list to store mean values for each question\u001b[39;00m\n\u001b[1;32m      4\u001b[0m     mean_values \u001b[38;5;241m=\u001b[39m []\n\u001b[1;32m      5\u001b[0m     \u001b[38;5;66;03m# Iterate over the questions\u001b[39;00m\n",
      "\u001b[0;31mAttributeError\u001b[0m: 'dict' object has no attribute 'unique'"
     ]
    },
    {
     "data": {
      "image/png": "[encoded data removed]",
      "text/plain": [
       "<Figure size 640x480 with 1 Axes>"
      ]
     },
     "metadata": {},
     "output_type": "display_data"
    }
   ],
   "source": [
    "fig, ax = plt.subplots()\n",
    "for group in results[list(results.keys())[0]]['groups'].unique():\n",
    "    # Initialize a list to store mean values for each question\n",
    "    mean_values = []\n",
    "    # Iterate over the questions\n",
    "    for key, df in results.items():\n",
    "        # Filter the dataframe for the current group\n",
    "        df_group = df[df['groups'] == group]\n",
    "        # # Calculate the mean value and append it to the list\n",
    "        mean_values.append(df_group['values'].mean())\n",
    "    # Plot the mean values for the current group\n",
    "    ax.plot(mean_values, list(results.keys()), label='Group ' + group, alpha=0.6, marker='o')\n",
    "\n",
    "# Set the figure width\n",
    "fig.set_figwidth(8)\n",
    "fig.set_figheight(10)\n",
    "\n",
    "# Set the x-axis limits and ensure it only uses integer values\n",
    "plt.setp(ax, xlim=(0, 6))\n",
    "ax.xaxis.set_major_locator(ticker.MaxNLocator(integer=True))\n",
    "ax.set_xticklabels([\"\", \"Strongly Disagree\", \"Disagree\", \"Neutral\", \"Agree\", \"Strongly Agree\", \"\"])\n",
    "ax.set_yticklabels(questions.values(), wrap=True, fontsize=8)\n",
    "\n",
    "# Set the title, legend, and save the figure\n",
    "ax.set_title(\"Mean Values for Each Question\")\n",
    "ax.legend()\n",
    "# fig.savefig('figs/full_figure.png')\n",
    "plt.show()"
   ]
  },
  {
   "cell_type": "code",
   "execution_count": 6,
   "metadata": {},
   "outputs": [
    {
     "ename": "AttributeError",
     "evalue": "'dict' object has no attribute 'unique'",
     "output_type": "error",
     "traceback": [
      "\u001b[0;31m---------------------------------------------------------------------------\u001b[0m",
      "\u001b[0;31mAttributeError\u001b[0m                            Traceback (most recent call last)",
      "Cell \u001b[0;32mIn[6], line 5\u001b[0m\n\u001b[1;32m      2\u001b[0m fig, ax \u001b[38;5;241m=\u001b[39m plt\u001b[38;5;241m.\u001b[39msubplots()\n\u001b[1;32m      4\u001b[0m \u001b[38;5;66;03m# Iterate over the groups\u001b[39;00m\n\u001b[0;32m----> 5\u001b[0m \u001b[38;5;28;01mfor\u001b[39;00m group \u001b[38;5;129;01min\u001b[39;00m \u001b[43mresults\u001b[49m\u001b[43m[\u001b[49m\u001b[43minteraction_q\u001b[49m\u001b[43m[\u001b[49m\u001b[38;5;241;43m0\u001b[39;49m\u001b[43m]\u001b[49m\u001b[43m]\u001b[49m\u001b[43m[\u001b[49m\u001b[38;5;124;43m'\u001b[39;49m\u001b[38;5;124;43mgroups\u001b[39;49m\u001b[38;5;124;43m'\u001b[39;49m\u001b[43m]\u001b[49m\u001b[38;5;241;43m.\u001b[39;49m\u001b[43munique\u001b[49m():\n\u001b[1;32m      6\u001b[0m     \u001b[38;5;66;03m# Initialize a list to store mean values for each question\u001b[39;00m\n\u001b[1;32m      7\u001b[0m     mean_values \u001b[38;5;241m=\u001b[39m []\n\u001b[1;32m      8\u001b[0m     \u001b[38;5;66;03m# Iterate over the questions\u001b[39;00m\n",
      "\u001b[0;31mAttributeError\u001b[0m: 'dict' object has no attribute 'unique'"
     ]
    },
    {
     "data": {
      "image/png": "[encoded data removed]",
      "text/plain": [
       "<Figure size 640x480 with 1 Axes>"
      ]
     },
     "metadata": {},
     "output_type": "display_data"
    }
   ],
   "source": [
    "# Create a new figure\n",
    "fig, ax = plt.subplots()\n",
    "\n",
    "# Iterate over the groups\n",
    "for group in results[interaction_q[0]]['groups'].unique():\n",
    "    # Initialize a list to store mean values for each question\n",
    "    mean_values = []\n",
    "    # Iterate over the questions\n",
    "    for new_key in interaction_q:\n",
    "        for key, df in results.items():\n",
    "            if (key == new_key):\n",
    "            # Filter the dataframe for the current group\n",
    "                df_group = df[df['groups'] == group]\n",
    "                # Calculate the mean value and append it to the list\n",
    "                mean_values.append(df_group['values'].mean())\n",
    "        # Filter the dataframe for the current group\n",
    "        # df_group = df[df['groups'] == group]\n",
    "        # # Calculate the mean value and append it to the list\n",
    "        # mean_values.append(df_group['values'].mean())\n",
    "    # Plot the mean values for the current group\n",
    "\n",
    "    ax.plot(mean_values, interaction_q, label=group, alpha=0.6, marker='o')\n",
    "\n",
    "fig.set_size_inches(7,4)\n",
    "\n",
    "# Set the x-axis limits and ensure it only uses integer values\n",
    "plt.setp(ax, xlim=(0, 6))\n",
    "ax.xaxis.set_major_locator(ticker.MaxNLocator(integer=True))\n",
    "ax.set_xticklabels([\"\", \"Strongly \\nDisagree\", \"Disagree\", \"Neutral\", \"Agree\", \"Strongly \\nAgree\", \"\"])\n",
    "values = []\n",
    "for each in interaction_q:\n",
    "    values.append(questions[each])\n",
    "ax.set_yticklabels(values, wrap=True, fontsize=10)\n",
    "\n",
    "# Set the title, legend, and save the figure\n",
    "ax.set_title(\"Interaction-Related Feedback\")\n",
    "ax.legend()\n",
    "\n",
    "fig.subplots_adjust(left=0.3)\n",
    "\n",
    "fig.savefig('figures/interaction-likert.pdf')\n",
    "plt.show()"
   ]
  },
  {
   "cell_type": "code",
   "execution_count": 7,
   "metadata": {},
   "outputs": [
    {
     "data": {
      "image/png": "[encoded data removed]",
      "text/plain": [
       "<Figure size 640x480 with 1 Axes>"
      ]
     },
     "metadata": {},
     "output_type": "display_data"
    }
   ],
   "source": [
    "likert_colors = ['white', 'firebrick','lightcoral','gainsboro','cornflowerblue', 'darkblue']\n",
    "dummy = pd.DataFrame([[1,2,3,4, 5], [5,6,7,8, 5], [10, 4, 2, 10, 5]],\n",
    "                     columns=[\"SD\", \"D\", \"N\", \"A\", \"SA\"],\n",
    "                    index=[\"Key 1\", \"Key B\", \"Key III\"])\n",
    "middles = dummy[[\"SD\", \"D\"]].sum(axis=1)+dummy[\"N\"]*.5\n",
    "longest = middles.max() + 5\n",
    "complete_longest = dummy.sum(axis=1).max()\n",
    "dummy.insert(0, '', (middles - longest).abs())\n",
    "\n",
    "dummy.plot.barh(stacked=True, color=likert_colors, edgecolor='none', legend=False)\n",
    "z = plt.axvline(longest, linestyle='--', color='black', alpha=.5)\n",
    "z.set_zorder(-1)\n",
    "\n",
    "plt.xlim(0, complete_longest + 10)\n",
    "xvalues = range(0,complete_longest,10)\n",
    "xlabels = [str(x-longest) for x in xvalues]\n",
    "plt.xticks(xvalues, xlabels)\n",
    "plt.show()"
   ]
  },
  {
   "cell_type": "code",
   "execution_count": 8,
   "metadata": {},
   "outputs": [
    {
     "ename": "AttributeError",
     "evalue": "'dict' object has no attribute 'unique'",
     "output_type": "error",
     "traceback": [
      "\u001b[0;31m---------------------------------------------------------------------------\u001b[0m",
      "\u001b[0;31mAttributeError\u001b[0m                            Traceback (most recent call last)",
      "Cell \u001b[0;32mIn[8], line 2\u001b[0m\n\u001b[1;32m      1\u001b[0m fig, ax \u001b[38;5;241m=\u001b[39m plt\u001b[38;5;241m.\u001b[39msubplots()\n\u001b[0;32m----> 2\u001b[0m \u001b[38;5;28;01mfor\u001b[39;00m group \u001b[38;5;129;01min\u001b[39;00m \u001b[43mresults\u001b[49m\u001b[43m[\u001b[49m\u001b[43mother_q\u001b[49m\u001b[43m[\u001b[49m\u001b[38;5;241;43m0\u001b[39;49m\u001b[43m]\u001b[49m\u001b[43m]\u001b[49m\u001b[43m[\u001b[49m\u001b[38;5;124;43m'\u001b[39;49m\u001b[38;5;124;43mgroups\u001b[39;49m\u001b[38;5;124;43m'\u001b[39;49m\u001b[43m]\u001b[49m\u001b[38;5;241;43m.\u001b[39;49m\u001b[43munique\u001b[49m():\n\u001b[1;32m      3\u001b[0m     \u001b[38;5;66;03m# Initialize a list to store mean values for each question\u001b[39;00m\n\u001b[1;32m      4\u001b[0m     mean_values \u001b[38;5;241m=\u001b[39m []\n\u001b[1;32m      5\u001b[0m     \u001b[38;5;66;03m# Iterate over the questions\u001b[39;00m\n",
      "\u001b[0;31mAttributeError\u001b[0m: 'dict' object has no attribute 'unique'"
     ]
    },
    {
     "data": {
      "image/png": "[encoded data removed]",
      "text/plain": [
       "<Figure size 640x480 with 1 Axes>"
      ]
     },
     "metadata": {},
     "output_type": "display_data"
    }
   ],
   "source": [
    "fig, ax = plt.subplots()\n",
    "for group in results[other_q[0]]['groups'].unique():\n",
    "    # Initialize a list to store mean values for each question\n",
    "    mean_values = []\n",
    "    # Iterate over the questions\n",
    "    for new_key in other_q:\n",
    "        for key, df in results.items():\n",
    "            if (key == new_key):\n",
    "                # Filter the dataframe for the current group\n",
    "                df_group = df[df['groups'] == group]\n",
    "                # Calculate the mean value and append it to the list\n",
    "                mean_values.append(df_group['values'].mean())\n",
    "        # Filter the dataframe for the current group\n",
    "        # df_group = df[df['groups'] == group]\n",
    "        # # Calculate the mean value and append it to the list\n",
    "        # mean_values.append(df_group['values'].mean())\n",
    "    # Plot the mean values for the current group\n",
    "    ax.plot(mean_values, other_q, label=group, alpha=0.6, marker='o')\n",
    "\n",
    "# Set the figure width\n",
    "fig.set_size_inches(7,4)\n",
    "\n",
    "# Set the x-axis limits and ensure it only uses integer values\n",
    "plt.setp(ax, xlim=(0, 6))\n",
    "ax.xaxis.set_major_locator(ticker.MaxNLocator(integer=True))\n",
    "ax.set_xticklabels([\"\", \"Strongly \\nDisagree\", \"Disagree\", \"Neutral\", \"Agree\", \"Strongly \\nAgree\", \"\"])\n",
    "values = []\n",
    "for each in other_q:\n",
    "    values.append(questions[each])\n",
    "ax.set_yticklabels(values, wrap=True, fontsize=10)\n",
    "\n",
    "# Set the title, legend, and save the figure\n",
    "ax.set_title(\"Aesthetic-Related Feedback\")\n",
    "ax.legend()\n",
    "\n",
    "fig.subplots_adjust(left=0.3)\n",
    "\n",
    "fig.savefig('figures/aesthetic-likert.pdf')\n",
    "plt.show()"
   ]
  },
  {
   "cell_type": "code",
   "execution_count": 9,
   "metadata": {},
   "outputs": [
    {
     "name": "stdout",
     "output_type": "stream",
     "text": [
      "                                         feedback-fq1  \\\n",
      "0   hovering over nodes to see where to go next wh...   \n",
      "1   The hover ability was most valuable for all th...   \n",
      "2                                                 NaN   \n",
      "3   I highlighted and then counted each node's con...   \n",
      "4   Click teeth while counting to have have rhythm...   \n",
      "5                                                 NaN   \n",
      "6   - centering to the nodes of interest\\n- zoomin...   \n",
      "7   For shortest path questions, I hovered over bo...   \n",
      "8   Find the point, then use the hover to determin...   \n",
      "9                                              greedy   \n",
      "10                Estimations based on node quantity.   \n",
      "11  Mostly, the hover affordance, hovering back an...   \n",
      "12  I used the click and drag + scroll to move to ...   \n",
      "13  Use drag to find the highlighted node\\nuse hov...   \n",
      "14  for counting edges, checking for dense compone...   \n",
      "15  Most of the questions I was able to double cli...   \n",
      "16  Neighborhood Property and degree of the node. ...   \n",
      "17  The hover option provided a great tool to help...   \n",
      "18  for the first two visualizations I scrolled, z...   \n",
      "19  For distance questions I followed edges that s...   \n",
      "20  For the \"Number of\" questions, I used my intui...   \n",
      "21                                                NaN   \n",
      "22  I mostly hover my mouse to highlight the conne...   \n",
      "23                                                NaN   \n",
      "24              Hovering over it and tracing the path   \n",
      "25  For the neighbor questions, I would hover the ...   \n",
      "26  I rely heavily on the hovering tool where the ...   \n",
      "27  For \"shared neighbors\" I would jump back-and-f...   \n",
      "28                    Tracing the edges from the node   \n",
      "\n",
      "                                         feedback-fq2  \\\n",
      "0                                                  no   \n",
      "1                                                  No   \n",
      "2                                                 NaN   \n",
      "3                                          Not really   \n",
      "4   Struggled at first with the ORANGE nodes conne...   \n",
      "5                                                 NaN   \n",
      "6   - in several cases there were pairs of edges d...   \n",
      "7   There were two main challenges. On every visua...   \n",
      "8                                                  No   \n",
      "9                                                 NaN   \n",
      "10                                              None.   \n",
      "11                         No! it was really fun  : )   \n",
      "12  Some nodes were positioned on top of edges so ...   \n",
      "13  the zoom and pan interaction was unintuitive o...   \n",
      "14                                                 no   \n",
      "15                                                NaN   \n",
      "16  Their were a little problems in tracing the pa...   \n",
      "17                                                 No   \n",
      "18  i strongly disliked that zooming into the visu...   \n",
      "19                                                 No   \n",
      "20   On the second type of graph visualization, so...   \n",
      "21                                                NaN   \n",
      "22  No, the task was easy. Only the last chunk of ...   \n",
      "23                                                NaN   \n",
      "24  The hyperbolic one was not fun at all. It was ...   \n",
      "25  The click-and-drag for elliptic surfaces felt ...   \n",
      "26  Using the trackpad on a mac laptop makes zoomi...   \n",
      "27  I did not like the spherical projection.  I ha...   \n",
      "28                                                NaN   \n",
      "\n",
      "                                         feedback-fq4  \n",
      "0   i hated the first style. the globe and flat st...  \n",
      "1   The second visualization technique was particu...  \n",
      "2                                                 NaN  \n",
      "3                                                 NaN  \n",
      "4   The tower shield shape was my favorite shape, ...  \n",
      "5                                                 NaN  \n",
      "6                                                 NaN  \n",
      "7   The last style was visually fun, but less intu...  \n",
      "8   I am an idiot and some of the neighbor node qu...  \n",
      "9          the special node should also change color.  \n",
      "10                                                NaN  \n",
      "11  I really really liked the Poincare disk projec...  \n",
      "12  While the enlarged edges helped when performin...  \n",
      "13                                                NaN  \n",
      "14  I like the sphere visualization the best, but ...  \n",
      "15  I love the aesthetics of the hyperbolic graph ...  \n",
      "16  It was an interesting interactive graph visual...  \n",
      "17                                                NaN  \n",
      "18  the visualization did not fit on my laptop scr...  \n",
      "19  The edge questions were the hardest. I did not...  \n",
      "20                                                NaN  \n",
      "21                                                NaN  \n",
      "22  The rotation for the last visualization style ...  \n",
      "23                                                NaN  \n",
      "24  Asking the same question again and again did n...  \n",
      "25  Typo \"Scrool\" for the first break at the hyper...  \n",
      "26  The globe visualization is very confusing to u...  \n",
      "27  Early on, I counted highlighted-neighbors BUT ...  \n",
      "28                                                NaN  \n"
     ]
    }
   ],
   "source": [
    "main_results = pd.read_csv('final-results.csv')\n",
    "df = main_results[['feedback-fq1', 'feedback-fq2', 'feedback-fq4']]\n",
    "print(df)\n"
   ]
  },
  {
   "cell_type": "code",
   "execution_count": 10,
   "metadata": {},
   "outputs": [
    {
     "data": {
      "text/plain": [
       "{'values': {'0': 3,\n",
       "  '1': 3,\n",
       "  '2': 3,\n",
       "  '3': 3,\n",
       "  '4': 4,\n",
       "  '5': 3,\n",
       "  '6': 3,\n",
       "  '7': 2,\n",
       "  '8': 3,\n",
       "  '9': 3,\n",
       "  '10': 3,\n",
       "  '11': 3,\n",
       "  '12': 3,\n",
       "  '13': 3,\n",
       "  '14': 3,\n",
       "  '15': 3,\n",
       "  '16': 3,\n",
       "  '17': 3,\n",
       "  '18': 3,\n",
       "  '19': 3,\n",
       "  '20': 3,\n",
       "  '21': 2,\n",
       "  '22': 2,\n",
       "  '23': 2,\n",
       "  '24': 2,\n",
       "  '25': 3,\n",
       "  '26': 2,\n",
       "  '27': 3,\n",
       "  '28': 3,\n",
       "  '29': 3,\n",
       "  '30': 2,\n",
       "  '31': 3,\n",
       "  '32': 3,\n",
       "  '33': 5,\n",
       "  '34': 5,\n",
       "  '35': 4,\n",
       "  '36': 1,\n",
       "  '37': 1,\n",
       "  '38': 2,\n",
       "  '39': 1,\n",
       "  '40': 3,\n",
       "  '41': 3,\n",
       "  '42': 3,\n",
       "  '43': 3,\n",
       "  '44': 3,\n",
       "  '45': 2,\n",
       "  '46': 2,\n",
       "  '47': 2,\n",
       "  '48': 4,\n",
       "  '49': 3,\n",
       "  '50': 3,\n",
       "  '51': 3,\n",
       "  '52': 4,\n",
       "  '53': 4,\n",
       "  '54': 3,\n",
       "  '55': 3,\n",
       "  '56': 4,\n",
       "  '57': 1,\n",
       "  '58': 1,\n",
       "  '59': 3,\n",
       "  '60': 3,\n",
       "  '61': 3,\n",
       "  '62': 4,\n",
       "  '63': 4,\n",
       "  '64': 4,\n",
       "  '65': 4,\n",
       "  '66': 1,\n",
       "  '67': 2,\n",
       "  '68': 2,\n",
       "  '69': 3,\n",
       "  '70': 3,\n",
       "  '71': 3,\n",
       "  '72': 2,\n",
       "  '73': 2,\n",
       "  '74': 2,\n",
       "  '75': 3,\n",
       "  '76': 3,\n",
       "  '77': 3,\n",
       "  '78': 2,\n",
       "  '79': 2,\n",
       "  '80': 2,\n",
       "  '81': 2,\n",
       "  '82': 3,\n",
       "  '83': 2,\n",
       "  '84': 3,\n",
       "  '85': 4,\n",
       "  '86': 4},\n",
       " 'groups': {'0': 'E',\n",
       "  '1': 'H',\n",
       "  '2': 'S',\n",
       "  '3': 'E',\n",
       "  '4': 'H',\n",
       "  '5': 'S',\n",
       "  '6': 'E',\n",
       "  '7': 'H',\n",
       "  '8': 'S',\n",
       "  '9': 'E',\n",
       "  '10': 'H',\n",
       "  '11': 'S',\n",
       "  '12': 'E',\n",
       "  '13': 'H',\n",
       "  '14': 'S',\n",
       "  '15': 'E',\n",
       "  '16': 'H',\n",
       "  '17': 'S',\n",
       "  '18': 'E',\n",
       "  '19': 'H',\n",
       "  '20': 'S',\n",
       "  '21': 'E',\n",
       "  '22': 'H',\n",
       "  '23': 'S',\n",
       "  '24': 'E',\n",
       "  '25': 'H',\n",
       "  '26': 'S',\n",
       "  '27': 'E',\n",
       "  '28': 'H',\n",
       "  '29': 'S',\n",
       "  '30': 'E',\n",
       "  '31': 'H',\n",
       "  '32': 'S',\n",
       "  '33': 'E',\n",
       "  '34': 'H',\n",
       "  '35': 'S',\n",
       "  '36': 'E',\n",
       "  '37': 'H',\n",
       "  '38': 'S',\n",
       "  '39': 'E',\n",
       "  '40': 'H',\n",
       "  '41': 'S',\n",
       "  '42': 'E',\n",
       "  '43': 'H',\n",
       "  '44': 'S',\n",
       "  '45': 'E',\n",
       "  '46': 'H',\n",
       "  '47': 'S',\n",
       "  '48': 'E',\n",
       "  '49': 'H',\n",
       "  '50': 'S',\n",
       "  '51': 'E',\n",
       "  '52': 'H',\n",
       "  '53': 'S',\n",
       "  '54': 'E',\n",
       "  '55': 'H',\n",
       "  '56': 'S',\n",
       "  '57': 'E',\n",
       "  '58': 'H',\n",
       "  '59': 'S',\n",
       "  '60': 'E',\n",
       "  '61': 'H',\n",
       "  '62': 'S',\n",
       "  '63': 'E',\n",
       "  '64': 'H',\n",
       "  '65': 'S',\n",
       "  '66': 'E',\n",
       "  '67': 'H',\n",
       "  '68': 'S',\n",
       "  '69': 'E',\n",
       "  '70': 'H',\n",
       "  '71': 'S',\n",
       "  '72': 'E',\n",
       "  '73': 'H',\n",
       "  '74': 'S',\n",
       "  '75': 'E',\n",
       "  '76': 'H',\n",
       "  '77': 'S',\n",
       "  '78': 'E',\n",
       "  '79': 'H',\n",
       "  '80': 'S',\n",
       "  '81': 'E',\n",
       "  '82': 'H',\n",
       "  '83': 'S',\n",
       "  '84': 'E',\n",
       "  '85': 'H',\n",
       "  '86': 'S'}}"
      ]
     },
     "execution_count": 10,
     "metadata": {},
     "output_type": "execute_result"
    }
   ],
   "source": [
    "results[interaction_q[0]]"
   ]
  },
  {
   "cell_type": "code",
   "execution_count": 11,
   "metadata": {},
   "outputs": [
    {
     "data": {
      "text/plain": [
       "'formatted_results.json'"
      ]
     },
     "execution_count": 11,
     "metadata": {},
     "output_type": "execute_result"
    }
   ],
   "source": [
    "import json\n",
    "\n",
    "# Load the original file\n",
    "input_path = 'results.json'\n",
    "output_path = 'formatted_results.json'\n",
    "\n",
    "# Load the JSON content\n",
    "with open(input_path, 'r') as f:\n",
    "    data = json.load(f)\n",
    "\n",
    "# Initialize a new dictionary to hold the reformatted structure\n",
    "reformatted_data = {}\n",
    "\n",
    "# Iterate over each category (q0, q1, ...)\n",
    "for category, content in data.items():\n",
    "    # Extract values and groups\n",
    "    values = content[\"values\"]\n",
    "    groups = content[\"groups\"]\n",
    "    \n",
    "    # Initialize a dictionary to store grouped values\n",
    "    grouped_values = {}\n",
    "    \n",
    "    # Iterate through values and match them to groups\n",
    "    for index, value in values.items():\n",
    "        group = groups[index]\n",
    "        \n",
    "        # If the group doesn't exist in the grouped_values, initialize it\n",
    "        if group not in grouped_values:\n",
    "            grouped_values[group] = []\n",
    "        \n",
    "        # Append the value to the appropriate group\n",
    "        grouped_values[group].append(value)\n",
    "    \n",
    "    # Add the grouped values to the reformatted data under the category\n",
    "    reformatted_data[category] = grouped_values\n",
    "\n",
    "# Save the reformatted data to a new JSON file\n",
    "with open(output_path, 'w') as f:\n",
    "    json.dump(reformatted_data, f, indent=4)\n",
    "\n",
    "output_path\n",
    "\n",
    "\n"
   ]
  },
  {
   "cell_type": "code",
   "execution_count": 12,
   "metadata": {},
   "outputs": [],
   "source": [
    "from collections import Counter"
   ]
  },
  {
   "cell_type": "code",
   "execution_count": 13,
   "metadata": {},
   "outputs": [],
   "source": [
    "import json\n",
    "import pylab as plt\n",
    "with open(\"formatted_results.json\", 'r') as fdata:\n",
    "    data = json.load(fdata)"
   ]
  },
  {
   "cell_type": "code",
   "execution_count": 14,
   "metadata": {},
   "outputs": [],
   "source": [
    "testdata = {\n",
    "    \"SD\": [data['q0']['E'].count(1), data['q0']['H'].count(1),data['q0']['S'].count(1),data['q1']['E'].count(1),data['q1']['H'].count(1),data['q1']['S'].count(1),],\n",
    "    \"D\": [data['q0']['E'].count(2), data['q0']['H'].count(2),data['q0']['S'].count(2),data['q1']['E'].count(2),data['q1']['H'].count(2),data['q1']['S'].count(2),],\n",
    "    \"N\": [data['q0']['E'].count(3), data['q0']['H'].count(3),data['q0']['S'].count(3),data['q1']['E'].count(3),data['q1']['H'].count(3),data['q1']['S'].count(3),],\n",
    "    \"A\": [data['q0']['E'].count(4), data['q0']['H'].count(4),data['q0']['S'].count(4),data['q1']['E'].count(4),data['q1']['H'].count(4),data['q1']['S'].count(4),],\n",
    "    \"SA\": [data['q0']['E'].count(5), data['q0']['H'].count(5),data['q0']['S'].count(5),data['q1']['E'].count(5),data['q1']['H'].count(5),data['q1']['S'].count(5),],\n",
    "}"
   ]
  },
  {
   "cell_type": "code",
   "execution_count": 15,
   "metadata": {},
   "outputs": [],
   "source": [
    "interaction_q = ['q7', 'q5', 'q4', 'q3', 'q6']\n",
    "\n",
    "qvis = interaction_q"
   ]
  },
  {
   "cell_type": "code",
   "execution_count": 16,
   "metadata": {},
   "outputs": [
    {
     "data": {
      "text/plain": [
       "{'SD': [0, 2, 4, 0, 1, 3, 1, 0, 0, 0, 0, 0, 0, 0, 0],\n",
       " 'D': [8, 6, 7, 7, 4, 10, 3, 2, 3, 4, 1, 2, 0, 0, 1],\n",
       " 'N': [15, 16, 15, 11, 10, 13, 6, 4, 7, 0, 0, 3, 0, 0, 0],\n",
       " 'A': [6, 4, 2, 4, 9, 2, 15, 15, 9, 12, 10, 15, 6, 7, 5],\n",
       " 'SA': [0, 1, 1, 7, 5, 1, 4, 8, 10, 13, 18, 9, 23, 22, 23]}"
      ]
     },
     "execution_count": 16,
     "metadata": {},
     "output_type": "execute_result"
    }
   ],
   "source": [
    "fdata = dict()\n",
    "for i,key in zip(range(1,6),[\"SD\", \"D\", \"N\", \"A\", \"SA\"]):\n",
    "    fdata[key] = list()\n",
    "    for q in qvis:\n",
    "        for geom in \"SHE\":\n",
    "            fdata[key].append(data[q][geom].count(i))\n",
    "\n",
    "fdata"
   ]
  },
  {
   "cell_type": "code",
   "execution_count": 17,
   "metadata": {},
   "outputs": [],
   "source": [
    "cmap = plt.get_cmap(\"RdBu\")"
   ]
  },
  {
   "cell_type": "code",
   "execution_count": 23,
   "metadata": {},
   "outputs": [
    {
     "data": {
      "image/png": "[encoded data removed]",
      "text/plain": [
       "<Figure size 640x480 with 2 Axes>"
      ]
     },
     "metadata": {},
     "output_type": "display_data"
    }
   ],
   "source": [
    "import numpy as np\n",
    "import matplotlib.pyplot as plt\n",
    "import pandas as pd\n",
    "plt.rcParams.update({'font.size': 12})\n",
    "\n",
    "\n",
    "# Example data (substitute with your real data)\n",
    "dummy = pd.DataFrame(fdata, index=list(range(len(fdata[\"SD\"]))))\n",
    "\n",
    "# Colors for the bars\n",
    "colors = [cmap(0), cmap(0.25), 'lightgrey', cmap(0.75), cmap(1.0)]\n",
    "\n",
    "# Initialize the figure\n",
    "fig, ax = plt.subplots()\n",
    "fig.set_dpi(100)\n",
    "\n",
    "# Set the width of bars and the gap between groups\n",
    "bar_width = 0.9\n",
    "group_gap = 2  # Larger space between groups\n",
    "\n",
    "# Calculate the positions for the bars\n",
    "positions = []\n",
    "group_size = 3  # Every three bars grouped together\n",
    "pos = 0\n",
    "\n",
    "center = 10\n",
    "offset = list()\n",
    "for i in range(len(dummy)):\n",
    "    if i % group_size == 0 and i != 0:\n",
    "        pos += group_gap  # Add larger gap between groups\n",
    "    positions.append(pos)\n",
    "    pos += 1\n",
    "\n",
    "    val = dummy.iloc[i,0] + dummy.iloc[i,1] + dummy.iloc[i, 2] / 2\n",
    "    offset.append(0 )\n",
    "\n",
    "offset = np.array(offset)\n",
    "labels = [\"Strongly Disagree\", \"Disagree\", \"Neutral\", \"Agree\", \"Strongly Agree\"]\n",
    "# Plot the bars for each column (stacked bar chart)\n",
    "for i, col in enumerate(dummy.columns):\n",
    "    ax.barh(positions, dummy[col], left=dummy.iloc[:, :i].sum(axis=1) + offset, color=colors[i], edgecolor='none', height=bar_width,label=labels[i])\n",
    "\n",
    "# Customize the x-ticks\n",
    "# ax.set_xticks(np.arange(0.5, max(positions), 3))  # Adjust tick positions\n",
    "# ax.set_xticklabels(dummy.index)\n",
    "\n",
    "# z = plt.axvline((29 / 2), linestyle='--', color='black', alpha=.5)\n",
    "# z.set_zorder(-1)\n",
    "\n",
    "ax.set_xlim(-1,30)\n",
    "rrange = np.linspace(0,29,6)\n",
    "ax.set_xticks(rrange)\n",
    "ax.set_xticklabels([f'{x}%' for x in range(0,101,20)])\n",
    "ax.set_xlabel(f\"% of particpants\")\n",
    "\n",
    "ax.set_yticks([p for p in positions[1::3]])\n",
    "ax.set_yticklabels([questions[q] for q in qvis])\n",
    "\n",
    "ax2 = ax.twinx()\n",
    "ax2.set_ylim(ax.get_ylim())\n",
    "ax2.set_yticks(positions)\n",
    "ax2.set_yticklabels([\"S\", \"H\", \"E\"] * len(qvis))\n",
    "\n",
    "# ax.legend(loc='upper left')\n",
    "ax.set_title(\"The interaction assisted in answering questions\")\n",
    "\n",
    "# fig.subplots_adjust(left=0.35)\n",
    "fig.tight_layout()\n",
    "# Show the plot\n",
    "plt.savefig(\"figures/interaction-likert.pdf\",bbox_inches='tight')\n"
   ]
  },
  {
   "cell_type": "code",
   "execution_count": 19,
   "metadata": {},
   "outputs": [
    {
     "data": {
      "text/plain": [
       "<matplotlib.legend.Legend at 0x79c7d258dd30>"
      ]
     },
     "execution_count": 19,
     "metadata": {},
     "output_type": "execute_result"
    },
    {
     "data": {
      "text/plain": [
       "<Figure size 200x150 with 0 Axes>"
      ]
     },
     "metadata": {},
     "output_type": "display_data"
    }
   ],
   "source": [
    "figlegend = plt.figure(figsize=(2,1.5))\n",
    "figlegend.legend(ax.get_legend_handles_labels()[0], ax.get_legend_handles_labels()[1])"
   ]
  },
  {
   "cell_type": "code",
   "execution_count": 20,
   "metadata": {},
   "outputs": [],
   "source": [
    "figlegend.tight_layout()\n",
    "figlegend.savefig(\"legend.pdf\")"
   ]
  }
 ],
 "metadata": {
  "kernelspec": {
   "display_name": "gt",
   "language": "python",
   "name": "python3"
  },
  "language_info": {
   "codemirror_mode": {
    "name": "ipython",
    "version": 3
   },
   "file_extension": ".py",
   "mimetype": "text/x-python",
   "name": "python",
   "nbconvert_exporter": "python",
   "pygments_lexer": "ipython3",
   "version": "3.12.5"
  }
 },
 "nbformat": 4,
 "nbformat_minor": 2
}
