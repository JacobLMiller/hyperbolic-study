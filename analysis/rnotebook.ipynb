{
 "cells": [
  {
   "cell_type": "code",
   "execution_count": 68,
   "metadata": {
    "vscode": {
     "languageId": "r"
    }
   },
   "outputs": [],
   "source": [
    "library(tidyr)\n",
    "library(ggplot2)\n",
    "library(coin)"
   ]
  },
  {
   "cell_type": "code",
   "execution_count": 69,
   "metadata": {
    "vscode": {
     "languageId": "r"
    }
   },
   "outputs": [],
   "source": [
    "run_wilcox <- function(trials){\n",
    "    wilcox_test((trials$values ~ trials$groups | trials$participants))\n",
    "}"
   ]
  },
  {
   "cell_type": "code",
   "execution_count": 70,
   "metadata": {
    "vscode": {
     "languageId": "r"
    }
   },
   "outputs": [],
   "source": [
    "analysisType <- \"time\""
   ]
  },
  {
   "cell_type": "code",
   "execution_count": 71,
   "metadata": {
    "vscode": {
     "languageId": "r"
    }
   },
   "outputs": [
    {
     "name": "stdout",
     "output_type": "stream",
     "text": [
      "[1] \"H1a\"\n"
     ]
    },
    {
     "data": {
      "text/html": [
       "'The p value for e(E) ~ e(H) is 0.00283047772374074'"
      ],
      "text/latex": [
       "'The p value for e(E) \\textasciitilde{} e(H) is 0.00283047772374074'"
      ],
      "text/markdown": [
       "'The p value for e(E) ~ e(H) is 0.00283047772374074'"
      ],
      "text/plain": [
       "[1] \"The p value for e(E) ~ e(H) is 0.00283047772374074\""
      ]
     },
     "metadata": {},
     "output_type": "display_data"
    },
    {
     "data": {
      "text/html": [
       "'The p value for e(E) ~ e(S) is 0.620357571033245'"
      ],
      "text/latex": [
       "'The p value for e(E) \\textasciitilde{} e(S) is 0.620357571033245'"
      ],
      "text/markdown": [
       "'The p value for e(E) ~ e(S) is 0.620357571033245'"
      ],
      "text/plain": [
       "[1] \"The p value for e(E) ~ e(S) is 0.620357571033245\""
      ]
     },
     "metadata": {},
     "output_type": "display_data"
    },
    {
     "data": {
      "text/html": [
       "'The p value for e(H) ~ e(S) is 0.0055973757062866'"
      ],
      "text/latex": [
       "'The p value for e(H) \\textasciitilde{} e(S) is 0.0055973757062866'"
      ],
      "text/markdown": [
       "'The p value for e(H) ~ e(S) is 0.0055973757062866'"
      ],
      "text/plain": [
       "[1] \"The p value for e(H) ~ e(S) is 0.0055973757062866\""
      ]
     },
     "metadata": {},
     "output_type": "display_data"
    },
    {
     "name": "stdout",
     "output_type": "stream",
     "text": [
      "[1] \"------------------\"\n"
     ]
    }
   ],
   "source": [
    "print(\"H1a\")\n",
    "dat <- read.csv(sprintf(\"CHI-hypotheses/H1a-%s.csv\", analysisType))\n",
    "# dat <- read.csv(\"hypotheses/H1a-factors.csv\")\n",
    "dat$groups <- as.factor(dat$groups)\n",
    "dat$participants <- as.factor(dat$participants)\n",
    "\n",
    "gtype <- \"e\"\n",
    "\n",
    "E <- sprintf(\"%s_E\", gtype )\n",
    "H <- sprintf(\"%s_H\", gtype )\n",
    "S <- sprintf(\"%s_S\", gtype )\n",
    "\n",
    "res <- run_wilcox(dat[dat$groups %in% c(E,H), ])\n",
    "\n",
    "sprintf(\"The p value for e(E) ~ e(H) is %s\", pvalue(res))\n",
    "\n",
    "res <- run_wilcox(dat[dat$groups %in% c(E,S), ])\n",
    "\n",
    "sprintf(\"The p value for e(E) ~ e(S) is %s\", pvalue(res))\n",
    "\n",
    "res <- run_wilcox(dat[dat$groups %in% c(H,S), ])\n",
    "\n",
    "sprintf(\"The p value for e(H) ~ e(S) is %s\", pvalue(res))\n",
    "print(\"------------------\")"
   ]
  },
  {
   "cell_type": "code",
   "execution_count": 72,
   "metadata": {
    "vscode": {
     "languageId": "r"
    }
   },
   "outputs": [
    {
     "name": "stdout",
     "output_type": "stream",
     "text": [
      "[1] \"H1b\"\n"
     ]
    },
    {
     "data": {
      "text/html": [
       "'The p value for h(E) ~ h(H) is 0.167514389253169'"
      ],
      "text/latex": [
       "'The p value for h(E) \\textasciitilde{} h(H) is 0.167514389253169'"
      ],
      "text/markdown": [
       "'The p value for h(E) ~ h(H) is 0.167514389253169'"
      ],
      "text/plain": [
       "[1] \"The p value for h(E) ~ h(H) is 0.167514389253169\""
      ]
     },
     "metadata": {},
     "output_type": "display_data"
    },
    {
     "data": {
      "text/html": [
       "'The p value for h(E) ~ h(S) is 0.26932434572532'"
      ],
      "text/latex": [
       "'The p value for h(E) \\textasciitilde{} h(S) is 0.26932434572532'"
      ],
      "text/markdown": [
       "'The p value for h(E) ~ h(S) is 0.26932434572532'"
      ],
      "text/plain": [
       "[1] \"The p value for h(E) ~ h(S) is 0.26932434572532\""
      ]
     },
     "metadata": {},
     "output_type": "display_data"
    },
    {
     "data": {
      "text/html": [
       "'The p value for h(H) ~ h(S) is 0.488011634051415'"
      ],
      "text/latex": [
       "'The p value for h(H) \\textasciitilde{} h(S) is 0.488011634051415'"
      ],
      "text/markdown": [
       "'The p value for h(H) ~ h(S) is 0.488011634051415'"
      ],
      "text/plain": [
       "[1] \"The p value for h(H) ~ h(S) is 0.488011634051415\""
      ]
     },
     "metadata": {},
     "output_type": "display_data"
    },
    {
     "name": "stdout",
     "output_type": "stream",
     "text": [
      "[1] \"------------------\"\n"
     ]
    }
   ],
   "source": [
    "print(\"H1b\")\n",
    "dat <- read.csv(sprintf(\"CHI-hypotheses/H1b-%s.csv\", analysisType))\n",
    "# dat <- read.csv(\"hypotheses/H1a-factors.csv\")\n",
    "dat$groups <- as.factor(dat$groups)\n",
    "dat$participants <- as.factor(dat$participants)\n",
    "\n",
    "gtype <- \"h\"\n",
    "\n",
    "E <- sprintf(\"%s_E\", gtype )\n",
    "H <- sprintf(\"%s_H\", gtype )\n",
    "S <- sprintf(\"%s_S\", gtype )\n",
    "\n",
    "res <- run_wilcox(dat[dat$groups %in% c(E,H), ])\n",
    "\n",
    "sprintf(\"The p value for h(E) ~ h(H) is %s\", pvalue(res))\n",
    "\n",
    "res <- run_wilcox(dat[dat$groups %in% c(E,S), ])\n",
    "\n",
    "sprintf(\"The p value for h(E) ~ h(S) is %s\", pvalue(res))\n",
    "\n",
    "res <- run_wilcox(dat[dat$groups %in% c(H,S), ])\n",
    "\n",
    "sprintf(\"The p value for h(H) ~ h(S) is %s\", pvalue(res))\n",
    "print(\"------------------\")"
   ]
  },
  {
   "cell_type": "code",
   "execution_count": 79,
   "metadata": {
    "vscode": {
     "languageId": "r"
    }
   },
   "outputs": [
    {
     "name": "stdout",
     "output_type": "stream",
     "text": [
      "[1] \"H1c\"\n"
     ]
    },
    {
     "data": {
      "text/html": [
       "'The p value for s(E) ~ s(H) is 0.0250327512522864'"
      ],
      "text/latex": [
       "'The p value for s(E) \\textasciitilde{} s(H) is 0.0250327512522864'"
      ],
      "text/markdown": [
       "'The p value for s(E) ~ s(H) is 0.0250327512522864'"
      ],
      "text/plain": [
       "[1] \"The p value for s(E) ~ s(H) is 0.0250327512522864\""
      ]
     },
     "metadata": {},
     "output_type": "display_data"
    },
    {
     "data": {
      "text/html": [
       "'The p value for s(E) ~ s(S) is 0.414827297170303'"
      ],
      "text/latex": [
       "'The p value for s(E) \\textasciitilde{} s(S) is 0.414827297170303'"
      ],
      "text/markdown": [
       "'The p value for s(E) ~ s(S) is 0.414827297170303'"
      ],
      "text/plain": [
       "[1] \"The p value for s(E) ~ s(S) is 0.414827297170303\""
      ]
     },
     "metadata": {},
     "output_type": "display_data"
    },
    {
     "data": {
      "text/html": [
       "'The p value for s(H) ~ s(S) is 0.0369588618406693'"
      ],
      "text/latex": [
       "'The p value for s(H) \\textasciitilde{} s(S) is 0.0369588618406693'"
      ],
      "text/markdown": [
       "'The p value for s(H) ~ s(S) is 0.0369588618406693'"
      ],
      "text/plain": [
       "[1] \"The p value for s(H) ~ s(S) is 0.0369588618406693\""
      ]
     },
     "metadata": {},
     "output_type": "display_data"
    },
    {
     "name": "stdout",
     "output_type": "stream",
     "text": [
      "[1] \"------------------\"\n"
     ]
    }
   ],
   "source": [
    "print(\"H1c\")\n",
    "dat <- read.csv(sprintf(\"CHI-hypotheses/H1c-%s.csv\", analysisType))\n",
    "# dat <- read.csv(\"hypotheses/H1a-factors.csv\")\n",
    "dat$groups <- as.factor(dat$groups)\n",
    "dat$participants <- as.factor(dat$participants)\n",
    "\n",
    "gtype <- \"s\"\n",
    "\n",
    "E <- sprintf(\"%s_E\", gtype )\n",
    "H <- sprintf(\"%s_H\", gtype )\n",
    "S <- sprintf(\"%s_S\", gtype )\n",
    "\n",
    "res <- run_wilcox(dat[dat$groups %in% c(E,H), ])\n",
    "\n",
    "sprintf(\"The p value for s(E) ~ s(H) is %s\", pvalue(res))\n",
    "\n",
    "res <- run_wilcox(dat[dat$groups %in% c(E,S), ])\n",
    "\n",
    "sprintf(\"The p value for s(E) ~ s(S) is %s\", pvalue(res))\n",
    "\n",
    "res <- run_wilcox(dat[dat$groups %in% c(H,S), ])\n",
    "\n",
    "sprintf(\"The p value for s(H) ~ s(S) is %s\", pvalue(res))\n",
    "print(\"------------------\")"
   ]
  },
  {
   "cell_type": "code",
   "execution_count": 74,
   "metadata": {
    "vscode": {
     "languageId": "r"
    }
   },
   "outputs": [
    {
     "name": "stdout",
     "output_type": "stream",
     "text": [
      "[1] \"H2\"\n"
     ]
    },
    {
     "data": {
      "text/html": [
       "'The p value for E ~ H is 0.55732611024762'"
      ],
      "text/latex": [
       "'The p value for E \\textasciitilde{} H is 0.55732611024762'"
      ],
      "text/markdown": [
       "'The p value for E ~ H is 0.55732611024762'"
      ],
      "text/plain": [
       "[1] \"The p value for E ~ H is 0.55732611024762\""
      ]
     },
     "metadata": {},
     "output_type": "display_data"
    },
    {
     "data": {
      "text/html": [
       "'The p value for E ~ S is 0.0965775201469259'"
      ],
      "text/latex": [
       "'The p value for E \\textasciitilde{} S is 0.0965775201469259'"
      ],
      "text/markdown": [
       "'The p value for E ~ S is 0.0965775201469259'"
      ],
      "text/plain": [
       "[1] \"The p value for E ~ S is 0.0965775201469259\""
      ]
     },
     "metadata": {},
     "output_type": "display_data"
    },
    {
     "data": {
      "text/html": [
       "'The p value for H ~ S is 0.373276195180969'"
      ],
      "text/latex": [
       "'The p value for H \\textasciitilde{} S is 0.373276195180969'"
      ],
      "text/markdown": [
       "'The p value for H ~ S is 0.373276195180969'"
      ],
      "text/plain": [
       "[1] \"The p value for H ~ S is 0.373276195180969\""
      ]
     },
     "metadata": {},
     "output_type": "display_data"
    },
    {
     "name": "stdout",
     "output_type": "stream",
     "text": [
      "[1] \"-------------------------\"\n"
     ]
    }
   ],
   "source": [
    "print(\"H2\")\n",
    "dat <- read.csv(\"hypotheses/H2.csv\")\n",
    "dat$groups <- as.factor(dat$groups)\n",
    "dat$participants <- as.factor(dat$participants)\n",
    "\n",
    "\n",
    "res <- run_wilcox(dat[!dat$groups %in% \"S\", ])\n",
    "sprintf(\"The p value for E ~ H is %s\", pvalue(res))\n",
    "\n",
    "res <- run_wilcox(dat[!dat$groups %in% \"H\", ] )\n",
    "sprintf(\"The p value for E ~ S is %s\", pvalue(res))\n",
    "\n",
    "res <- run_wilcox(dat[!dat$groups %in% \"E\", ] )\n",
    "sprintf(\"The p value for H ~ S is %s\", pvalue(res))\n",
    "print(\"-------------------------\")"
   ]
  },
  {
   "cell_type": "code",
   "execution_count": 75,
   "metadata": {
    "vscode": {
     "languageId": "r"
    }
   },
   "outputs": [
    {
     "name": "stdout",
     "output_type": "stream",
     "text": [
      "[1] \"likert data for q0\"\n",
      "[1] \"This style of visualization was easy to read and understand.\"\n",
      "[1] \"p-value for friedman is 0.00682269993889683\"\n",
      "[1] \"The p value for E ~ H is 0.00304411167159713\"\n",
      "[1] \"The p value for E ~ S is 0.0237539981623431\"\n",
      "[1] \"The p value for H ~ S is 0.102304209745092\"\n",
      "[1] \"---------------------\"\n",
      "[1] \"likert data for q1\"\n",
      "[1] \"The visualization style supported answering the questions asked.\"\n",
      "[1] \"p-value for friedman is 0.086356140745635\"\n",
      "[1] \"The p value for E ~ H is 0.0897739615919655\"\n",
      "[1] \"The p value for E ~ S is 0.0386885288450249\"\n",
      "[1] \"The p value for H ~ S is 0.817890621297563\"\n",
      "[1] \"---------------------\"\n",
      "[1] \"likert data for q2\"\n",
      "[1] \"The provided interactions overall supported answering the questions asked.\"\n",
      "[1] \"p-value for friedman is 0.700520111514277\"\n",
      "[1] \"The p value for E ~ H is 0.889412713373321\"\n",
      "[1] \"The p value for E ~ S is 0.3630318616691\"\n",
      "[1] \"The p value for H ~ S is 0.55335328048879\"\n",
      "[1] \"---------------------\"\n",
      "[1] \"likert data for q3\"\n",
      "[1] \"The click-and-drag interaction assisted answering questions.\"\n",
      "[1] \"p-value for friedman is 0.0179914768266585\"\n",
      "[1] \"The p value for E ~ H is 0.00569636128374551\"\n",
      "[1] \"The p value for E ~ S is 0.239224638050182\"\n",
      "[1] \"The p value for H ~ S is 0.0740263439078246\"\n",
      "[1] \"---------------------\"\n",
      "[1] \"likert data for q4\"\n",
      "[1] \"The scroll interaction assisted answering questions.\"\n",
      "[1] \"p-value for friedman is 0.245171551945438\"\n",
      "[1] \"The p value for E ~ H is 0.660086610790311\"\n",
      "[1] \"The p value for E ~ S is 0.134238867775266\"\n",
      "[1] \"The p value for H ~ S is 0.0828549089767188\"\n",
      "[1] \"---------------------\"\n",
      "[1] \"likert data for q5\"\n",
      "[1] \"The double click interaction assisted answering questions.\"\n",
      "[1] \"p-value for friedman is 0.000297323539001627\"\n",
      "[1] \"The p value for E ~ H is 0.00116346350170848\"\n",
      "[1] \"The p value for E ~ S is 0.00221509270494452\"\n",
      "[1] \"The p value for H ~ S is 0.515150089806275\"\n",
      "[1] \"---------------------\"\n",
      "[1] \"likert data for q6\"\n",
      "[1] \"The hover interaction assisted answering questions.\"\n",
      "[1] \"p-value for friedman is 0.778800783071405\"\n",
      "[1] \"The p value for E ~ H is 0.658590716807444\"\n",
      "[1] \"The p value for E ~ S is 0.882940983205738\"\n",
      "[1] \"The p value for H ~ S is 0.317310507862914\"\n",
      "[1] \"---------------------\"\n",
      "[1] \"likert data for q7\"\n",
      "[1] \"The reset button interaction assisted answering questions.\"\n",
      "[1] \"p-value for friedman is 0.0568882383461015\"\n",
      "[1] \"The p value for E ~ H is 0.0654989509312022\"\n",
      "[1] \"The p value for E ~ S is 0.0192952019590473\"\n",
      "[1] \"The p value for H ~ S is 0.615230102812886\"\n",
      "[1] \"---------------------\"\n",
      "[1] \"likert data for q8\"\n",
      "[1] \"It was enjoyable utilizing the interactions.\"\n",
      "[1] \"p-value for friedman is 0.466498721182848\"\n",
      "[1] \"The p value for E ~ H is 0.835465840965921\"\n",
      "[1] \"The p value for E ~ S is 0.547449016838446\"\n",
      "[1] \"The p value for H ~ S is 0.430206679912293\"\n",
      "[1] \"---------------------\"\n",
      "[1] \"likert data for q9\"\n",
      "[1] \"The visualizations were aesthetically pleasing.\"\n",
      "[1] \"p-value for friedman is 0.552892001278803\"\n",
      "[1] \"The p value for E ~ H is 0.980872487172742\"\n",
      "[1] \"The p value for E ~ S is 0.566966344759884\"\n",
      "[1] \"The p value for H ~ S is 0.574514020365057\"\n",
      "[1] \"---------------------\"\n"
     ]
    }
   ],
   "source": [
    "lquestions = list(\n",
    "    \"This style of visualization was easy to read and understand.\", \n",
    "    \"The visualization style supported answering the questions asked.\", \n",
    "    \"The provided interactions overall supported answering the questions asked.\", \n",
    "    \"The click-and-drag interaction assisted answering questions.\",\n",
    "    \"The scroll interaction assisted answering questions.\", \n",
    "    \"The double click interaction assisted answering questions.\",\n",
    "    \"The hover interaction assisted answering questions.\",\n",
    "    \"The reset button interaction assisted answering questions.\",\n",
    "    \"It was enjoyable utilizing the interactions.\",\n",
    "    \"The visualizations were aesthetically pleasing.\"\n",
    ")\n",
    "\n",
    "for(i in 0:9){\n",
    "    print(sprintf(\"likert data for q%d\", i))\n",
    "    print(lquestions[[i+1]])\n",
    "    dat <- read.csv(sprintf(\"hypotheses/likert-q%d-factor.csv\", i))\n",
    "    dat$groups <- as.factor(dat$groups)\n",
    "    dat$participants <- as.factor(dat$participants)\n",
    "    # dat$values <- toString(dat$values)\n",
    "\n",
    "    res <- friedman.test(dat$values, dat$groups, dat$participants)\n",
    "    print(sprintf(\"p-value for friedman is %s\", res$p.value))\n",
    "\n",
    "    #Pairwise wilcox\n",
    "    res <- run_wilcox(dat[!dat$groups %in% \"S\", ])\n",
    "    print(sprintf(\"The p value for E ~ H is %s\", pvalue(res)))\n",
    "\n",
    "    res <- run_wilcox(dat[!dat$groups %in% \"H\", ])\n",
    "    print(sprintf(\"The p value for E ~ S is %s\", pvalue(res)))\n",
    "\n",
    "    res <- run_wilcox(dat[!dat$groups %in% \"E\", ])\n",
    "    print(sprintf(\"The p value for H ~ S is %s\", pvalue(res)))\n",
    "    print(\"---------------------\")\n",
    "}\n"
   ]
  },
  {
   "cell_type": "code",
   "execution_count": 76,
   "metadata": {
    "vscode": {
     "languageId": "r"
    }
   },
   "outputs": [
    {
     "name": "stdout",
     "output_type": "stream",
     "text": [
      "[1] \"p-value for friedman is 0.767431631971574\"\n",
      "[1] \"The p value for E ~ H is 0.64731478438852\"\n",
      "[1] \"The p value for E ~ S is 0.836995730048049\"\n",
      "[1] \"The p value for H ~ S is 0.332417474381757\"\n",
      "[1] \"---------------------\"\n"
     ]
    }
   ],
   "source": [
    "dat <- read.csv(\"hypotheses/T5-factors.csv\")\n",
    "dat$groups <- as.factor(dat$groups)\n",
    "dat$participants <- as.factor(dat$participants)\n",
    "\n",
    "res <- friedman.test(dat$values, dat$groups, dat$participants)\n",
    "print(sprintf(\"p-value for friedman is %s\", res$p.value))\n",
    "\n",
    "#Pairwise wilcox\n",
    "res <- run_wilcox(dat[!dat$groups %in% \"S\", ])\n",
    "print(sprintf(\"The p value for E ~ H is %s\", pvalue(res)))\n",
    "\n",
    "res <- run_wilcox(dat[!dat$groups %in% \"H\", ])\n",
    "print(sprintf(\"The p value for E ~ S is %s\", pvalue(res)))\n",
    "\n",
    "res <- run_wilcox(dat[!dat$groups %in% \"E\", ])\n",
    "print(sprintf(\"The p value for H ~ S is %s\", pvalue(res)))\n",
    "print(\"---------------------\")"
   ]
  },
  {
   "cell_type": "code",
   "execution_count": 77,
   "metadata": {
    "vscode": {
     "languageId": "r"
    }
   },
   "outputs": [
    {
     "data": {
      "text/plain": [
       "\n",
       "\tAsymptotic Wilcoxon-Mann-Whitney Test\n",
       "\n",
       "data:  dat$vals by dat$group (H, L)\n",
       "Z = 1.1728, p-value = 0.2409\n",
       "alternative hypothesis: true mu is not equal to 0\n"
      ]
     },
     "metadata": {},
     "output_type": "display_data"
    }
   ],
   "source": [
    "dat <- read.csv(\"hypotheses/experience-E.csv\")\n",
    "dat$group <- as.factor(dat$group)\n",
    "res <- wilcox_test((dat$vals ~ dat$group ))\n",
    "res"
   ]
  },
  {
   "cell_type": "code",
   "execution_count": 4,
   "metadata": {
    "vscode": {
     "languageId": "r"
    }
   },
   "outputs": [
    {
     "name": "stderr",
     "output_type": "stream",
     "text": [
      "Installing package into ‘/home/jacob253/R/x86_64-pc-linux-gnu-library/4.4’\n",
      "(as ‘lib’ is unspecified)\n",
      "\n"
     ]
    }
   ],
   "source": [
    "install.packages(\"ggplot2\")"
   ]
  },
  {
   "cell_type": "code",
   "execution_count": 6,
   "metadata": {
    "vscode": {
     "languageId": "r"
    }
   },
   "outputs": [
    {
     "ename": "ERROR",
     "evalue": "Error in package(ggplot2): could not find function \"package\"\n",
     "output_type": "error",
     "traceback": [
      "Error in package(ggplot2): could not find function \"package\"\nTraceback:\n"
     ]
    }
   ],
   "source": [
    "library(ggplot2)"
   ]
  },
  {
   "cell_type": "code",
   "execution_count": 5,
   "metadata": {
    "vscode": {
     "languageId": "r"
    }
   },
   "outputs": [
    {
     "ename": "ERROR",
     "evalue": "Error in ggplot(data, aes(x = group, y = value)): could not find function \"ggplot\"\n",
     "output_type": "error",
     "traceback": [
      "Error in ggplot(data, aes(x = group, y = value)): could not find function \"ggplot\"\nTraceback:\n"
     ]
    }
   ],
   "source": [
    "ggplot(data, aes(x = group, y = value)) + \n",
    "  ## add half-violin from {ggdist} package\n",
    "  ggdist::stat_halfeye(\n",
    "    ## custom bandwidth\n",
    "    adjust = .5, \n",
    "    ## adjust height\n",
    "    width = .6, \n",
    "    ## move geom to the right\n",
    "    justification = -.2, \n",
    "    ## remove slab interval\n",
    "    .width = 0, \n",
    "    point_colour = NA\n",
    "  ) + \n",
    "  geom_boxplot(\n",
    "    width = .15, \n",
    "    ## remove outliers\n",
    "    outlier.color = NA ## `outlier.shape = NA` or `outlier.alpha = 0` works as well\n",
    "  ) +\n",
    "  ## add dot plots from {ggdist} package\n",
    "  ggdist::stat_dots(\n",
    "    ## orientation to the left\n",
    "    side = \"left\", \n",
    "    ## move geom to the left\n",
    "    justification = 1.12, \n",
    "    ## adjust grouping (binning) of observations \n",
    "    binwidth = .25\n",
    "  ) + \n",
    "  ## remove white space on the sides\n",
    "  coord_cartesian(xlim = c(1.3, 2.9))"
   ]
  }
 ],
 "metadata": {
  "kernelspec": {
   "display_name": "R",
   "language": "R",
   "name": "ir"
  },
  "language_info": {
   "codemirror_mode": "r",
   "file_extension": ".r",
   "mimetype": "text/x-r-source",
   "name": "R",
   "pygments_lexer": "r",
   "version": "4.4.1"
  }
 },
 "nbformat": 4,
 "nbformat_minor": 2
}
