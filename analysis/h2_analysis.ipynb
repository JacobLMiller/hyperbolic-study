{
 "cells": [
  {
   "cell_type": "code",
   "execution_count": 2,
   "metadata": {},
   "outputs": [],
   "source": [
    "import pandas as pd \n",
    "import numpy as np \n",
    "import pylab as plt"
   ]
  },
  {
   "cell_type": "code",
   "execution_count": 3,
   "metadata": {},
   "outputs": [
    {
     "data": {
      "text/html": [
       "<div>\n",
       "<style scoped>\n",
       "    .dataframe tbody tr th:only-of-type {\n",
       "        vertical-align: middle;\n",
       "    }\n",
       "\n",
       "    .dataframe tbody tr th {\n",
       "        vertical-align: top;\n",
       "    }\n",
       "\n",
       "    .dataframe thead th {\n",
       "        text-align: right;\n",
       "    }\n",
       "</style>\n",
       "<table border=\"1\" class=\"dataframe\">\n",
       "  <thead>\n",
       "    <tr style=\"text-align: right;\">\n",
       "      <th></th>\n",
       "      <th>q_group</th>\n",
       "      <th>totalTime</th>\n",
       "      <th>graph_E-q_0</th>\n",
       "      <th>type_E-q_0</th>\n",
       "      <th>E-q_0</th>\n",
       "      <th>correct_E-q_0</th>\n",
       "      <th>trueAnswer_E-q_0</th>\n",
       "      <th>editDist_E-q_0</th>\n",
       "      <th>time_E-q_0</th>\n",
       "      <th>hoverCount_E-q_0</th>\n",
       "      <th>...</th>\n",
       "      <th>likert_S_lq-8</th>\n",
       "      <th>geom_order</th>\n",
       "      <th>feedback-fq5</th>\n",
       "      <th>feedback-fq6</th>\n",
       "      <th>feedback-fq7</th>\n",
       "      <th>feedback-fq8</th>\n",
       "      <th>feedback-fq9</th>\n",
       "      <th>feedback-fq1</th>\n",
       "      <th>feedback-fq2</th>\n",
       "      <th>feedback-fq4</th>\n",
       "    </tr>\n",
       "  </thead>\n",
       "  <tbody>\n",
       "    <tr>\n",
       "      <th>p_325</th>\n",
       "      <td>0</td>\n",
       "      <td>25.200000</td>\n",
       "      <td>e_group_0</td>\n",
       "      <td>T1</td>\n",
       "      <td>option-2</td>\n",
       "      <td>1</td>\n",
       "      <td>option-2</td>\n",
       "      <td>1.000000</td>\n",
       "      <td>15377</td>\n",
       "      <td>10</td>\n",
       "      <td>...</td>\n",
       "      <td>4</td>\n",
       "      <td>H,S,E</td>\n",
       "      <td>3</td>\n",
       "      <td>2.0</td>\n",
       "      <td>1</td>\n",
       "      <td>2</td>\n",
       "      <td>3</td>\n",
       "      <td>hovering over nodes to see where to go next wh...</td>\n",
       "      <td>no</td>\n",
       "      <td>i hated the first style. the globe and flat st...</td>\n",
       "    </tr>\n",
       "    <tr>\n",
       "      <th>p_328</th>\n",
       "      <td>1</td>\n",
       "      <td>32.200000</td>\n",
       "      <td>e_group_1</td>\n",
       "      <td>T5</td>\n",
       "      <td>option-2</td>\n",
       "      <td>1</td>\n",
       "      <td>option-2</td>\n",
       "      <td>1.000000</td>\n",
       "      <td>53538</td>\n",
       "      <td>2</td>\n",
       "      <td>...</td>\n",
       "      <td>3</td>\n",
       "      <td>E,S,H</td>\n",
       "      <td>5</td>\n",
       "      <td>1.0</td>\n",
       "      <td>2</td>\n",
       "      <td>2</td>\n",
       "      <td>2</td>\n",
       "      <td>The hover ability was most valuable for all th...</td>\n",
       "      <td>No</td>\n",
       "      <td>The second visualization technique was particu...</td>\n",
       "    </tr>\n",
       "    <tr>\n",
       "      <th>p_329</th>\n",
       "      <td>2</td>\n",
       "      <td>24.533333</td>\n",
       "      <td>e_group_1</td>\n",
       "      <td>T6</td>\n",
       "      <td>option-3</td>\n",
       "      <td>0</td>\n",
       "      <td>option-2</td>\n",
       "      <td>0.666667</td>\n",
       "      <td>6331</td>\n",
       "      <td>5</td>\n",
       "      <td>...</td>\n",
       "      <td>1</td>\n",
       "      <td>H,E,S</td>\n",
       "      <td>4</td>\n",
       "      <td>1.0</td>\n",
       "      <td>1</td>\n",
       "      <td>4</td>\n",
       "      <td>2</td>\n",
       "      <td>NaN</td>\n",
       "      <td>NaN</td>\n",
       "      <td>NaN</td>\n",
       "    </tr>\n",
       "  </tbody>\n",
       "</table>\n",
       "<p>3 rows × 689 columns</p>\n",
       "</div>"
      ],
      "text/plain": [
       "       q_group  totalTime graph_E-q_0 type_E-q_0     E-q_0  correct_E-q_0  \\\n",
       "p_325        0  25.200000   e_group_0         T1  option-2              1   \n",
       "p_328        1  32.200000   e_group_1         T5  option-2              1   \n",
       "p_329        2  24.533333   e_group_1         T6  option-3              0   \n",
       "\n",
       "      trueAnswer_E-q_0  editDist_E-q_0  time_E-q_0  hoverCount_E-q_0  ...  \\\n",
       "p_325         option-2        1.000000       15377                10  ...   \n",
       "p_328         option-2        1.000000       53538                 2  ...   \n",
       "p_329         option-2        0.666667        6331                 5  ...   \n",
       "\n",
       "       likert_S_lq-8  geom_order  feedback-fq5  feedback-fq6 feedback-fq7  \\\n",
       "p_325              4       H,S,E             3           2.0            1   \n",
       "p_328              3       E,S,H             5           1.0            2   \n",
       "p_329              1       H,E,S             4           1.0            1   \n",
       "\n",
       "      feedback-fq8 feedback-fq9  \\\n",
       "p_325            2            3   \n",
       "p_328            2            2   \n",
       "p_329            4            2   \n",
       "\n",
       "                                            feedback-fq1 feedback-fq2  \\\n",
       "p_325  hovering over nodes to see where to go next wh...           no   \n",
       "p_328  The hover ability was most valuable for all th...           No   \n",
       "p_329                                                NaN          NaN   \n",
       "\n",
       "                                            feedback-fq4  \n",
       "p_325  i hated the first style. the globe and flat st...  \n",
       "p_328  The second visualization technique was particu...  \n",
       "p_329                                                NaN  \n",
       "\n",
       "[3 rows x 689 columns]"
      ]
     },
     "execution_count": 3,
     "metadata": {},
     "output_type": "execute_result"
    }
   ],
   "source": [
    "data = pd.read_csv(\"out.csv\", index_col=0)\n",
    "data.head(n=3)"
   ]
  },
  {
   "cell_type": "code",
   "execution_count": 61,
   "metadata": {},
   "outputs": [],
   "source": [
    "for geom in \"EHS\":\n",
    "    for q in range(18):\n",
    "        lab = f\"effort_{geom}-q{q}\"\n",
    "        data[lab] = data[[col for col in data.columns if f\"panCount_{geom}-q_{q}\" in col or f\"zoomCount_{geom}-q_{q}\" in col or f\"dblclickCount_{geom}-q_{q}\" in col]].sum(axis=1)"
   ]
  },
  {
   "cell_type": "code",
   "execution_count": 105,
   "metadata": {},
   "outputs": [],
   "source": [
    "analysis_type = \"correct\""
   ]
  },
  {
   "cell_type": "code",
   "execution_count": 106,
   "metadata": {},
   "outputs": [],
   "source": [
    "e_cols = [col for col in data.columns if f\"{analysis_type}_E\" in col]\n",
    "h_cols = [col for col in data.columns if f\"{analysis_type}_H\" in col]\n",
    "s_cols = [col for col in data.columns if f\"{analysis_type}_S\" in col]"
   ]
  },
  {
   "cell_type": "code",
   "execution_count": 107,
   "metadata": {},
   "outputs": [],
   "source": [
    "e_times = data[e_cols].mean(axis=1)\n",
    "h_times = data[h_cols].mean(axis=1)\n",
    "s_times = data[s_cols].mean(axis=1)\n",
    "\n",
    "H2 = pd.DataFrame()\n",
    "H2[\"E\"] = e_times #/ 1000\n",
    "H2[\"H\"] = h_times #/ 1000\n",
    "H2[\"S\"] = s_times #/ 1000"
   ]
  },
  {
   "cell_type": "code",
   "execution_count": 108,
   "metadata": {},
   "outputs": [],
   "source": [
    "test = data[[col for col in data.columns if \"panCount_E-q_0\" in col or \"zoomCount_E-q_0\" in col or \"dblclickCount_E-q_0\" in col]].sum(axis=1)"
   ]
  },
  {
   "cell_type": "code",
   "execution_count": null,
   "metadata": {},
   "outputs": [],
   "source": []
  },
  {
   "cell_type": "code",
   "execution_count": 109,
   "metadata": {},
   "outputs": [],
   "source": [
    "def get_df_analysis(analysis_type):\n",
    "    e_cols = [col for col in data.columns if f\"{analysis_type}_E\" in col]\n",
    "    h_cols = [col for col in data.columns if f\"{analysis_type}_H\" in col]\n",
    "    s_cols = [col for col in data.columns if f\"{analysis_type}_S\" in col]\n",
    "\n",
    "    e_times = data[e_cols].mean(axis=1)\n",
    "    h_times = data[h_cols].mean(axis=1)\n",
    "    s_times = data[s_cols].mean(axis=1)\n",
    "\n",
    "    H2 = pd.DataFrame()\n",
    "    H2[\"E\"] = e_times \n",
    "    H2[\"H\"] = h_times \n",
    "    H2[\"S\"] = s_times \n",
    "    return H2"
   ]
  },
  {
   "cell_type": "code",
   "execution_count": 110,
   "metadata": {},
   "outputs": [],
   "source": [
    "vals = list()\n",
    "for index, row in H2.iterrows():\n",
    "    for col in H2.columns:\n",
    "        vals.append([row[col], index, col])\n",
    "pd.DataFrame(vals, columns=[\"values\", \"participants\", \"groups\"]).to_csv(\"hypotheses/H2.csv\",index=False)"
   ]
  },
  {
   "cell_type": "code",
   "execution_count": 111,
   "metadata": {},
   "outputs": [
    {
     "data": {
      "text/plain": [
       "<Figure size 640x480 with 0 Axes>"
      ]
     },
     "metadata": {},
     "output_type": "display_data"
    }
   ],
   "source": [
    "plt.boxplot(H2.to_numpy(), labels=[\"E\", \"H\", \"S\"])\n",
    "plt.suptitle(f\"H12\")\n",
    "plt.savefig(f\"figures/H2.png\")\n",
    "plt.clf()"
   ]
  },
  {
   "cell_type": "code",
   "execution_count": 112,
   "metadata": {},
   "outputs": [],
   "source": [
    "import scipy.stats as st"
   ]
  },
  {
   "cell_type": "code",
   "execution_count": 122,
   "metadata": {},
   "outputs": [],
   "source": [
    "H2 = get_df_analysis(\"correct\")\n",
    "H2.head()"
   ]
  },
  {
   "cell_type": "code",
   "execution_count": 123,
   "metadata": {},
   "outputs": [],
   "source": [
    "labels = list(\"SHE\")\n",
    "means = [H2[g].mean() for g in labels]\n",
    "CI = [st.t.interval(confidence=0.9, df=len(H2[g])-1, loc=H2[g].mean(), scale=st.sem(H2[g])) for g in labels ]\n"
   ]
  },
  {
   "cell_type": "code",
   "execution_count": 131,
   "metadata": {},
   "outputs": [
    {
     "name": "stdout",
     "output_type": "stream",
     "text": [
      "['S', 'H', 'E']\n"
     ]
    },
    {
     "data": {
      "image/png": "[encoded data removed]",
      "text/plain": [
       "<Figure size 500x230 with 1 Axes>"
      ]
     },
     "metadata": {},
     "output_type": "display_data"
    }
   ],
   "source": [
    "colors = [\"tab:blue\", \"tab:orange\", \"tab:green\"][::-1]\n",
    "fig, ax = plt.subplots()\n",
    "error_plots = list()\n",
    "for i,(mean, (low, high)) in enumerate(zip(means, CI)):\n",
    "    \n",
    "    err = ax.errorbar(mean, [i/10], xerr=[abs(low - mean)], fmt='o',color=colors[i%3])\n",
    "    error_plots.append(err)\n",
    "\n",
    "xmin = 0.6\n",
    "xmax = 1.0\n",
    "ax.set_xlim(xmin, xmax)\n",
    "ax.legend(error_plots[::-1],[\"E\", \"H\", \"S\"],loc=\"upper right\")\n",
    "\n",
    "print(labels)\n",
    "ax.set_yticks([i / 10 for i in range(3)], labels=labels)\n",
    "ax.set_ylim(-0.05, 2/10 + 0.055)\n",
    "# ax.hlines([0-0.05, 0.25, (5/10 + 0.05)], xmin, xmax, colors=\"black\")\n",
    "ax.grid(True,axis='x',linestyle='--')\n",
    "\n",
    "ax.set_xlabel(\"Accuracy\")\n",
    "ax.set_ylabel(\"Condition\")\n",
    "ax.set_title(\"Confidence intervals for accuracy in H2\")\n",
    "fig.set_size_inches(5,2.3)\n",
    "ax.axhspan(-0.05,0.35,facecolor=\"grey\",alpha=0.2)\n",
    "\n",
    "\n",
    "# ax2 = ax.twinx()\n",
    "# ax2.set_ylim(-0.05, 8/10 + 0.055)\n",
    "# ax2.set_yticks([i / 10 for i in range(1,9,3)], [\"H1c\", \"H1b\", \"H1a\"])\n",
    "\n",
    "fig.subplots_adjust(bottom=0.2)\n",
    "fig.savefig(\"figures/H2vis_acc.pdf\")"
   ]
  },
  {
   "cell_type": "code",
   "execution_count": 125,
   "metadata": {},
   "outputs": [
    {
     "data": {
      "text/plain": [
       "24.499999999999996"
      ]
     },
     "execution_count": 125,
     "metadata": {},
     "output_type": "execute_result"
    }
   ],
   "source": [
    "H2['E'].sum()"
   ]
  },
  {
   "cell_type": "code",
   "execution_count": 126,
   "metadata": {},
   "outputs": [],
   "source": [
    "hover = get_df_analysis(\"hoverCount\")\n",
    "pan   = get_df_analysis(\"panCount\")\n",
    "zoom  = get_df_analysis(\"zoomCount\")\n",
    "dblclk = get_df_analysis(\"dblclickCount\")\n",
    "rest   = get_df_analysis(\"resetCount\")"
   ]
  },
  {
   "cell_type": "code",
   "execution_count": 127,
   "metadata": {},
   "outputs": [],
   "source": [
    "interactions = [hover, pan, zoom, dblclk, rest]"
   ]
  },
  {
   "cell_type": "code",
   "execution_count": 128,
   "metadata": {},
   "outputs": [
    {
     "data": {
      "image/png": "[encoded data removed]",
      "text/plain": [
       "<Figure size 640x480 with 1 Axes>"
      ]
     },
     "metadata": {},
     "output_type": "display_data"
    }
   ],
   "source": [
    "\n",
    "species = (\"Hover\", \"Pan\", \"Zoom\", \"Double click\", \"Reset\")\n",
    "penguin_means = {\n",
    "    'E': [int(d[\"E\"].mean()) for d in interactions],\n",
    "    'H': [int(d[\"H\"].mean()) for d in interactions],\n",
    "    'S': [int(d[\"S\"].mean()) for d in interactions],\n",
    "}\n",
    "\n",
    "x = np.arange(len(species))  # the label locations\n",
    "width = 0.25  # the width of the bars\n",
    "multiplier = 0\n",
    "\n",
    "fig, ax = plt.subplots(layout='constrained')\n",
    "\n",
    "for attribute, measurement in penguin_means.items():\n",
    "    offset = width * multiplier\n",
    "    rects = ax.bar(x + offset, measurement, width, label=attribute)\n",
    "    ax.bar_label(rects, padding=3)\n",
    "    multiplier += 1\n",
    "\n",
    "# Add some text for labels, title and custom x-axis tick labels, etc.\n",
    "ax.set_ylabel('Count')\n",
    "ax.set_title('Average total interactions per participant')\n",
    "ax.set_xticks(x + width, species)\n",
    "ax.legend(loc='upper right')\n",
    "# ax.set_ylim(0, 250)\n",
    "\n",
    "plt.savefig(\"figures/interactions.pdf\")"
   ]
  }
 ],
 "metadata": {
  "kernelspec": {
   "display_name": "gt",
   "language": "python",
   "name": "python3"
  },
  "language_info": {
   "codemirror_mode": {
    "name": "ipython",
    "version": 3
   },
   "file_extension": ".py",
   "mimetype": "text/x-python",
   "name": "python",
   "nbconvert_exporter": "python",
   "pygments_lexer": "ipython3",
   "version": "3.10.4"
  }
 },
 "nbformat": 4,
 "nbformat_minor": 2
}
